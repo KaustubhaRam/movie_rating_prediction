{
 "cells": [
  {
   "cell_type": "code",
   "execution_count": 8,
   "id": "6f960a10",
   "metadata": {},
   "outputs": [],
   "source": [
    "import numpy as np\n",
    "import pandas as pd\n",
    "import seaborn as sns\n",
    "import matplotlib.pyplot as plt\n",
    "from sklearn.model_selection import train_test_split\n",
    "from sklearn.linear_model import LinearRegression\n",
    "from sklearn.ensemble import RandomForestClassifier\n",
    "from sklearn.metrics import accuracy_score,r2_score\n"
   ]
  },
  {
   "cell_type": "markdown",
   "id": "ee53d6c5",
   "metadata": {},
   "source": [
    "Read data\n"
   ]
  },
  {
   "cell_type": "code",
   "execution_count": 9,
   "id": "f62cf356",
   "metadata": {},
   "outputs": [],
   "source": [
    "movie_data=pd.read_csv(\"IMDb_Movies_India.csv\",encoding='latin1')"
   ]
  },
  {
   "cell_type": "markdown",
   "id": "50ed2ec6",
   "metadata": {},
   "source": [
    "Preprocess"
   ]
  },
  {
   "cell_type": "code",
   "execution_count": 10,
   "id": "8d5beef9",
   "metadata": {},
   "outputs": [
    {
     "data": {
      "text/plain": [
       "Name           0\n",
       "Year         528\n",
       "Duration    8269\n",
       "Genre       1877\n",
       "Rating      7590\n",
       "Votes       7589\n",
       "Director     525\n",
       "Actor 1     1617\n",
       "Actor 2     2384\n",
       "Actor 3     3144\n",
       "dtype: int64"
      ]
     },
     "execution_count": 10,
     "metadata": {},
     "output_type": "execute_result"
    }
   ],
   "source": [
    "movie_data.head()\n",
    "movie_data.isnull().sum()\n",
    "\n"
   ]
  },
  {
   "cell_type": "markdown",
   "id": "b34d12e3",
   "metadata": {},
   "source": [
    "remove null rows"
   ]
  },
  {
   "cell_type": "code",
   "execution_count": 11,
   "id": "5f0056f9",
   "metadata": {},
   "outputs": [],
   "source": [
    "movie_data.dropna(inplace=True)"
   ]
  },
  {
   "cell_type": "markdown",
   "id": "99241180",
   "metadata": {},
   "source": [
    "remove duplictes"
   ]
  },
  {
   "cell_type": "code",
   "execution_count": 12,
   "id": "0044a410",
   "metadata": {},
   "outputs": [],
   "source": [
    "movie_data.dropna(inplace=True)"
   ]
  },
  {
   "cell_type": "code",
   "execution_count": 18,
   "id": "66440301",
   "metadata": {},
   "outputs": [
    {
     "name": "stdout",
     "output_type": "stream",
     "text": [
      "<class 'pandas.core.series.Series'>\n",
      "<class 'pandas.core.frame.DataFrame'>\n",
      "Index: 5283 entries, 1 to 15508\n",
      "Data columns (total 9 columns):\n",
      " #   Column    Non-Null Count  Dtype  \n",
      "---  ------    --------------  -----  \n",
      " 0   Year      5283 non-null   int32  \n",
      " 1   Duration  5283 non-null   int64  \n",
      " 2   Genre     5283 non-null   object \n",
      " 3   Rating    5283 non-null   float64\n",
      " 4   Votes     5283 non-null   int64  \n",
      " 5   Director  5283 non-null   object \n",
      " 6   Actor 1   5283 non-null   object \n",
      " 7   Actor 2   5283 non-null   object \n",
      " 8   Actor 3   5283 non-null   object \n",
      "dtypes: float64(1), int32(1), int64(2), object(5)\n",
      "memory usage: 521.1+ KB\n"
     ]
    },
    {
     "name": "stderr",
     "output_type": "stream",
     "text": [
      "<>:1: SyntaxWarning: invalid escape sequence '\\s'\n",
      "<>:1: SyntaxWarning: invalid escape sequence '\\s'\n",
      "C:\\Users\\Kaustubha Ram\\AppData\\Local\\Temp\\ipykernel_30744\\1176865097.py:1: SyntaxWarning: invalid escape sequence '\\s'\n",
      "  movie_data['Name'] = movie_data['Name'].str.extract('([A-Za-z\\s\\'\\-]+)')\n"
     ]
    }
   ],
   "source": [
    "movie_data['Name'] = movie_data['Name'].str.extract('([A-Za-z\\s\\'\\-]+)')\n",
    "print(type(movie_data['Year']))\n",
    "movie_data['Year'] = movie_data['Year'].astype(str).str.replace(r'[()]', '',regex=True).astype(int)\n",
    "movie_data['Duration']=pd.to_numeric(movie_data['Duration'].astype(str).str.replace(r' min','',regex=True),errors='coerce')\n",
    "# df['Duration'] = pd.to_numeric(df['Duration'].str.replace(r' min', '', regex=True), errors='coerce')\n",
    "movie_data['Votes']=pd.to_numeric(movie_data['Votes'].astype(str).str.replace(',',''),errors='coerce')\n",
    "movie_data.drop_duplicates(subset=['Name'],inplace=True)\n",
    "movie_data.drop('Name',axis=1,inplace=True)\n",
    "movie_data.info()"
   ]
  },
  {
   "cell_type": "code",
   "execution_count": 20,
   "id": "6bac59b8",
   "metadata": {},
   "outputs": [],
   "source": [
    "director_mean=movie_data.groupby('Director')['Rating'].transform('mean')\n",
    "movie_data['Director_group']=director_mean\n",
    "actor_1_mean=movie_data.groupby('Actor 1')['Rating'].transform('mean')\n",
    "movie_data['Actor_1_group']=actor_1_mean\n",
    "actor_2_mean=movie_data.groupby('Actor 2')['Rating'].transform('mean')\n",
    "movie_data['Actor_2_group']=actor_2_mean\n",
    "actor_3_mean=movie_data.groupby('Actor 3')['Rating'].transform('mean')\n",
    "movie_data['Actor_3_group']=actor_3_mean"
   ]
  },
  {
   "cell_type": "markdown",
   "id": "3f83bbbc",
   "metadata": {},
   "source": [
    "Model"
   ]
  },
  {
   "cell_type": "code",
   "execution_count": 19,
   "id": "3ef83a22",
   "metadata": {},
   "outputs": [
    {
     "ename": "NameError",
     "evalue": "name 'df' is not defined",
     "output_type": "error",
     "traceback": [
      "\u001b[1;31m---------------------------------------------------------------------------\u001b[0m",
      "\u001b[1;31mNameError\u001b[0m                                 Traceback (most recent call last)",
      "Cell \u001b[1;32mIn[19], line 3\u001b[0m\n\u001b[0;32m      1\u001b[0m model1\u001b[38;5;241m=\u001b[39mRandomForestClassifier()\n\u001b[0;32m      2\u001b[0m model2\u001b[38;5;241m=\u001b[39mLinearRegression()\n\u001b[1;32m----> 3\u001b[0m \u001b[43mdf\u001b[49m\u001b[38;5;241m.\u001b[39mdrop(\u001b[38;5;124m'\u001b[39m\u001b[38;5;124mName\u001b[39m\u001b[38;5;124m'\u001b[39m, axis \u001b[38;5;241m=\u001b[39m \u001b[38;5;241m1\u001b[39m, inplace \u001b[38;5;241m=\u001b[39m \u001b[38;5;28;01mTrue\u001b[39;00m)\n\u001b[0;32m      4\u001b[0m x\u001b[38;5;241m=\u001b[39mmovie_data[[\u001b[38;5;124m'\u001b[39m\u001b[38;5;124mYear\u001b[39m\u001b[38;5;124m'\u001b[39m,\u001b[38;5;124m'\u001b[39m\u001b[38;5;124mDuration\u001b[39m\u001b[38;5;124m'\u001b[39m,\u001b[38;5;124m'\u001b[39m\u001b[38;5;124mGenre\u001b[39m\u001b[38;5;124m'\u001b[39m,\u001b[38;5;124m'\u001b[39m\u001b[38;5;124mRating\u001b[39m\u001b[38;5;124m'\u001b[39m,\u001b[38;5;124m'\u001b[39m\u001b[38;5;124m'\u001b[39m]]\n\u001b[0;32m      5\u001b[0m x_train,x_test,y_train,y_test\u001b[38;5;241m=\u001b[39mtrain_test_split(x,y,test_size\u001b[38;5;241m=\u001b[39m\u001b[38;5;241m0.2\u001b[39m,random_state\u001b[38;5;241m=\u001b[39m\u001b[38;5;241m20\u001b[39m)\n",
      "\u001b[1;31mNameError\u001b[0m: name 'df' is not defined"
     ]
    }
   ],
   "source": [
    "model1=RandomForestClassifier()\n",
    "model2=LinearRegression()\n",
    "x=movie_data[['Year','Duration','Genre','Votes','Director']]\n",
    "x_train,x_test,y_train,y_test=train_test_split(x,y,test_size=0.2,random_state=20)"
   ]
  }
 ],
 "metadata": {
  "kernelspec": {
   "display_name": "Python 3 (ipykernel)",
   "language": "python",
   "name": "python3"
  },
  "language_info": {
   "codemirror_mode": {
    "name": "ipython",
    "version": 3
   },
   "file_extension": ".py",
   "mimetype": "text/x-python",
   "name": "python",
   "nbconvert_exporter": "python",
   "pygments_lexer": "ipython3",
   "version": "3.12.3"
  }
 },
 "nbformat": 4,
 "nbformat_minor": 5
}
