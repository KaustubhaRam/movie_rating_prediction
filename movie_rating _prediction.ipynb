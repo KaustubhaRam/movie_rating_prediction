{
 "cells": [
  {
   "cell_type": "code",
   "execution_count": 46,
   "id": "6f960a10",
   "metadata": {},
   "outputs": [],
   "source": [
    "import numpy as np\n",
    "import pandas as pd\n",
    "import seaborn as sns\n",
    "import matplotlib.pyplot as plt\n",
    "from sklearn.model_selection import train_test_split\n",
    "from sklearn.linear_model import LinearRegression\n",
    "from sklearn.ensemble import RandomForestClassifier\n",
    "from sklearn.metrics import accuracy_score,r2_score\n"
   ]
  },
  {
   "cell_type": "markdown",
   "id": "ee53d6c5",
   "metadata": {},
   "source": [
    "Read data\n"
   ]
  },
  {
   "cell_type": "code",
   "execution_count": 47,
   "id": "f62cf356",
   "metadata": {},
   "outputs": [],
   "source": [
    "movie_data=pd.read_csv(\"IMDb_Movies_India.csv\",encoding='latin1')"
   ]
  },
  {
   "cell_type": "markdown",
   "id": "50ed2ec6",
   "metadata": {},
   "source": [
    "Preprocess"
   ]
  },
  {
   "cell_type": "code",
   "execution_count": 48,
   "id": "8d5beef9",
   "metadata": {},
   "outputs": [
    {
     "data": {
      "text/plain": [
       "Name           0\n",
       "Year         528\n",
       "Duration    8269\n",
       "Genre       1877\n",
       "Rating      7590\n",
       "Votes       7589\n",
       "Director     525\n",
       "Actor 1     1617\n",
       "Actor 2     2384\n",
       "Actor 3     3144\n",
       "dtype: int64"
      ]
     },
     "execution_count": 48,
     "metadata": {},
     "output_type": "execute_result"
    }
   ],
   "source": [
    "movie_data.head()\n",
    "movie_data.isnull().sum()\n",
    "\n"
   ]
  },
  {
   "cell_type": "markdown",
   "id": "b34d12e3",
   "metadata": {},
   "source": [
    "remove null rows"
   ]
  },
  {
   "cell_type": "code",
   "execution_count": null,
   "id": "5f0056f9",
   "metadata": {},
   "outputs": [],
   "source": []
  },
  {
   "cell_type": "markdown",
   "id": "99241180",
   "metadata": {},
   "source": [
    "remove duplictes"
   ]
  },
  {
   "cell_type": "code",
   "execution_count": 49,
   "id": "0044a410",
   "metadata": {},
   "outputs": [],
   "source": [
    "movie_data.dropna(inplace=True)"
   ]
  },
  {
   "cell_type": "code",
   "execution_count": 50,
   "id": "66440301",
   "metadata": {},
   "outputs": [
    {
     "name": "stdout",
     "output_type": "stream",
     "text": [
      "<class 'pandas.core.series.Series'>\n",
      "<class 'pandas.core.frame.DataFrame'>\n",
      "Index: 5282 entries, 1 to 15508\n",
      "Data columns (total 10 columns):\n",
      " #   Column    Non-Null Count  Dtype  \n",
      "---  ------    --------------  -----  \n",
      " 0   Name      5282 non-null   object \n",
      " 1   Year      5282 non-null   int32  \n",
      " 2   Duration  5282 non-null   int64  \n",
      " 3   Genre     5282 non-null   object \n",
      " 4   Rating    5282 non-null   float64\n",
      " 5   Votes     5282 non-null   int64  \n",
      " 6   Director  5282 non-null   object \n",
      " 7   Actor 1   5282 non-null   object \n",
      " 8   Actor 2   5282 non-null   object \n",
      " 9   Actor 3   5282 non-null   object \n",
      "dtypes: float64(1), int32(1), int64(2), object(6)\n",
      "memory usage: 433.3+ KB\n"
     ]
    },
    {
     "name": "stderr",
     "output_type": "stream",
     "text": [
      "<>:1: SyntaxWarning: invalid escape sequence '\\s'\n",
      "<>:1: SyntaxWarning: invalid escape sequence '\\s'\n",
      "C:\\Users\\Kaustubha Ram\\AppData\\Local\\Temp\\ipykernel_27820\\3894014875.py:1: SyntaxWarning: invalid escape sequence '\\s'\n",
      "  movie_data['Name'] = movie_data['Name'].str.extract('([A-Za-z\\s\\'\\-]+)')\n"
     ]
    }
   ],
   "source": [
    "movie_data['Name'] = movie_data['Name'].str.extract('([A-Za-z\\s\\'\\-]+)')\n",
    "print(type(movie_data['Year']))\n",
    "movie_data['Year'] = movie_data['Year'].astype(str).str.replace(r'[()]', '',regex=True).astype(int)\n",
    "movie_data['Duration']=pd.to_numeric(movie_data['Duration'].astype(str).str.replace(r' min','',regex=True),errors='coerce')\n",
    "# df['Duration'] = pd.to_numeric(df['Duration'].str.replace(r' min', '', regex=True), errors='coerce')\n",
    "movie_data['Votes']=pd.to_numeric(movie_data['Votes'].astype(str).str.replace(',',''),errors='coerce')\n",
    "movie_data.drop_duplicates(subset=['Name'],inplace=True)\n",
    "movie_data.dropna(inplace=True)\n",
    "movie_data.info()"
   ]
  },
  {
   "cell_type": "markdown",
   "id": "3f83bbbc",
   "metadata": {},
   "source": [
    "Model"
   ]
  },
  {
   "cell_type": "code",
   "execution_count": 51,
   "id": "3ef83a22",
   "metadata": {},
   "outputs": [],
   "source": [
    "model1=RandomForestClassifier()\n",
    "model2=LinearRegression()\n"
   ]
  }
 ],
 "metadata": {
  "kernelspec": {
   "display_name": "Python 3 (ipykernel)",
   "language": "python",
   "name": "python3"
  },
  "language_info": {
   "codemirror_mode": {
    "name": "ipython",
    "version": 3
   },
   "file_extension": ".py",
   "mimetype": "text/x-python",
   "name": "python",
   "nbconvert_exporter": "python",
   "pygments_lexer": "ipython3",
   "version": "3.12.3"
  }
 },
 "nbformat": 4,
 "nbformat_minor": 5
}
